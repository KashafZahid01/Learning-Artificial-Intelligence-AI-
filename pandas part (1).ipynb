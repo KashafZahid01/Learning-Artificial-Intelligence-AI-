{
 "cells": [
  {
   "cell_type": "code",
   "execution_count": null,
   "id": "74a81b95-be4c-4dfc-b30d-c6e43d12bfbd",
   "metadata": {},
   "outputs": [],
   "source": [
    "#Pandas Library"
   ]
  },
  {
   "cell_type": "code",
   "execution_count": 8,
   "id": "affdb1e9-9637-485c-ad22-3f5a16978a5f",
   "metadata": {},
   "outputs": [
    {
     "name": "stdout",
     "output_type": "stream",
     "text": [
      "a    10\n",
      "b    20\n",
      "c    30\n",
      "d    40\n",
      "dtype: int64\n"
     ]
    }
   ],
   "source": [
    "#Series ------ one-dimensional labeled array.\n",
    "import pandas as pd\n",
    "\n",
    "#Each element has a label\n",
    "s = pd.Series([10, 20, 30, 40], index=['a', 'b', 'c', 'd'])\n",
    "print(s)"
   ]
  },
  {
   "cell_type": "code",
   "execution_count": 10,
   "id": "304ba799-9444-447e-9a00-38e53ef3436a",
   "metadata": {},
   "outputs": [
    {
     "name": "stdout",
     "output_type": "stream",
     "text": [
      "0        apple\n",
      "1      bannana\n",
      "2        mango\n",
      "3       grapes\n",
      "4    pineapple\n",
      "dtype: object\n"
     ]
    }
   ],
   "source": [
    "import pandas as pd\n",
    "#without initializing labels become 0,1,2----\n",
    "data=pd.Series(['apple','bannana','mango','grapes','pineapple'])\n",
    "print(data)"
   ]
  },
  {
   "cell_type": "code",
   "execution_count": 7,
   "id": "198855d6-acdb-4eda-a6e5-7f28480ad06f",
   "metadata": {},
   "outputs": [
    {
     "name": "stdout",
     "output_type": "stream",
     "text": [
      "-----data frame-----\n",
      "  students  grade       DEPARTMENT\n",
      "0   kashaf     70  COMPUTER SYSTEM\n",
      "1    salva     90            CIVIL\n",
      "2   abrish    100          MEDICAL\n",
      "  students  grade\n",
      "0   kashaf     70\n",
      "1    salva     90\n",
      "2   abrish    100\n",
      "  students  grade DEPARTMENT\n",
      "1    salva     90      CIVIL\n",
      "2   abrish    100    MEDICAL\n"
     ]
    }
   ],
   "source": [
    "#dataframes\n",
    "import pandas as pd\n",
    "\n",
    "print('-----data frame-----')\n",
    "\n",
    "data={\n",
    "    'students':['kashaf','salva','abrish'],\n",
    "    'grade':[70,90,100],\n",
    "    'DEPARTMENT':['COMPUTER SYSTEM','CIVIL','MEDICAL']\n",
    "}\n",
    "df=pd.DataFrame(data)\n",
    "print(df)"
   ]
  },
  {
   "cell_type": "code",
   "execution_count": 11,
   "id": "292533a9-32f6-4929-812d-fb97a1d8f047",
   "metadata": {},
   "outputs": [
    {
     "name": "stdout",
     "output_type": "stream",
     "text": [
      "  students  grade\n",
      "0   kashaf     70\n",
      "1    salva     90\n",
      "2   abrish    100\n",
      "  students  grade DEPARTMENT\n",
      "1    salva     90      CIVIL\n",
      "2   abrish    100    MEDICAL\n"
     ]
    }
   ],
   "source": [
    "#Selection and Indexing---- selecting columns\n",
    "#to print only grades and students\n",
    "print(df[['students','grade']])"
   ]
  },
  {
   "cell_type": "code",
   "execution_count": 16,
   "id": "ef6aac15-3a91-45d6-b8e8-f57bf4c51f2b",
   "metadata": {},
   "outputs": [
    {
     "data": {
      "text/html": [
       "<div>\n",
       "<style scoped>\n",
       "    .dataframe tbody tr th:only-of-type {\n",
       "        vertical-align: middle;\n",
       "    }\n",
       "\n",
       "    .dataframe tbody tr th {\n",
       "        vertical-align: top;\n",
       "    }\n",
       "\n",
       "    .dataframe thead th {\n",
       "        text-align: right;\n",
       "    }\n",
       "</style>\n",
       "<table border=\"1\" class=\"dataframe\">\n",
       "  <thead>\n",
       "    <tr style=\"text-align: right;\">\n",
       "      <th></th>\n",
       "      <th>students</th>\n",
       "      <th>grade</th>\n",
       "      <th>DEPARTMENT</th>\n",
       "    </tr>\n",
       "  </thead>\n",
       "  <tbody>\n",
       "    <tr>\n",
       "      <th>0</th>\n",
       "      <td>kashaf</td>\n",
       "      <td>70</td>\n",
       "      <td>COMPUTER SYSTEM</td>\n",
       "    </tr>\n",
       "    <tr>\n",
       "      <th>1</th>\n",
       "      <td>salva</td>\n",
       "      <td>90</td>\n",
       "      <td>CIVIL</td>\n",
       "    </tr>\n",
       "    <tr>\n",
       "      <th>2</th>\n",
       "      <td>abrish</td>\n",
       "      <td>100</td>\n",
       "      <td>MEDICAL</td>\n",
       "    </tr>\n",
       "  </tbody>\n",
       "</table>\n",
       "</div>"
      ],
      "text/plain": [
       "  students  grade       DEPARTMENT\n",
       "0   kashaf     70  COMPUTER SYSTEM\n",
       "1    salva     90            CIVIL\n",
       "2   abrish    100          MEDICAL"
      ]
     },
     "execution_count": 16,
     "metadata": {},
     "output_type": "execute_result"
    }
   ],
   "source": [
    "#selecting rows ----- By index (loc):\n",
    "df.loc[0:2]       #from 0 to 2"
   ]
  },
  {
   "cell_type": "code",
   "execution_count": 18,
   "id": "eac8c2d3-178a-4334-8da8-7e8d2fe87893",
   "metadata": {},
   "outputs": [
    {
     "name": "stdout",
     "output_type": "stream",
     "text": [
      "  students  grade DEPARTMENT\n",
      "1    salva     90      CIVIL\n",
      "2   abrish    100    MEDICAL\n"
     ]
    }
   ],
   "source": [
    "#conditional sentences \n",
    "print(df[df['grade']>70])"
   ]
  },
  {
   "cell_type": "code",
   "execution_count": 22,
   "id": "c527b696-24cd-4d35-84c0-63b2c49077da",
   "metadata": {},
   "outputs": [
    {
     "name": "stdout",
     "output_type": "stream",
     "text": [
      "  students  grade       DEPARTMENT\n",
      "0   kashaf     70  COMPUTER SYSTEM\n",
      "1    salva     90            CIVIL\n",
      "\n",
      "   students  grade DEPARTMENT\n",
      "2   abrish    100    MEDICAL\n"
     ]
    }
   ],
   "source": [
    "#Operations on DataFrames\n",
    "#head() and tail()\n",
    "print (df.head(2) )  # First 2 rows\n",
    "print( \"\\n\",df.tail(1) )  # Last 1 rows"
   ]
  },
  {
   "cell_type": "code",
   "execution_count": 24,
   "id": "e304b467-26ac-49b1-8b57-44aed4e83033",
   "metadata": {},
   "outputs": [
    {
     "data": {
      "text/html": [
       "<div>\n",
       "<style scoped>\n",
       "    .dataframe tbody tr th:only-of-type {\n",
       "        vertical-align: middle;\n",
       "    }\n",
       "\n",
       "    .dataframe tbody tr th {\n",
       "        vertical-align: top;\n",
       "    }\n",
       "\n",
       "    .dataframe thead th {\n",
       "        text-align: right;\n",
       "    }\n",
       "</style>\n",
       "<table border=\"1\" class=\"dataframe\">\n",
       "  <thead>\n",
       "    <tr style=\"text-align: right;\">\n",
       "      <th></th>\n",
       "      <th>students</th>\n",
       "      <th>grade</th>\n",
       "      <th>DEPARTMENT</th>\n",
       "    </tr>\n",
       "  </thead>\n",
       "  <tbody>\n",
       "    <tr>\n",
       "      <th>2</th>\n",
       "      <td>abrish</td>\n",
       "      <td>100</td>\n",
       "      <td>MEDICAL</td>\n",
       "    </tr>\n",
       "    <tr>\n",
       "      <th>1</th>\n",
       "      <td>salva</td>\n",
       "      <td>90</td>\n",
       "      <td>CIVIL</td>\n",
       "    </tr>\n",
       "    <tr>\n",
       "      <th>0</th>\n",
       "      <td>kashaf</td>\n",
       "      <td>70</td>\n",
       "      <td>COMPUTER SYSTEM</td>\n",
       "    </tr>\n",
       "  </tbody>\n",
       "</table>\n",
       "</div>"
      ],
      "text/plain": [
       "  students  grade       DEPARTMENT\n",
       "2   abrish    100          MEDICAL\n",
       "1    salva     90            CIVIL\n",
       "0   kashaf     70  COMPUTER SYSTEM"
      ]
     },
     "execution_count": 24,
     "metadata": {},
     "output_type": "execute_result"
    }
   ],
   "source": [
    "#sorting\n",
    "df.sort_values('grade', ascending=False)"
   ]
  },
  {
   "cell_type": "code",
   "execution_count": 26,
   "id": "eedf206c-e2a0-4363-9b7e-f1e7a3d18bfa",
   "metadata": {},
   "outputs": [
    {
     "data": {
      "text/html": [
       "<div>\n",
       "<style scoped>\n",
       "    .dataframe tbody tr th:only-of-type {\n",
       "        vertical-align: middle;\n",
       "    }\n",
       "\n",
       "    .dataframe tbody tr th {\n",
       "        vertical-align: top;\n",
       "    }\n",
       "\n",
       "    .dataframe thead th {\n",
       "        text-align: right;\n",
       "    }\n",
       "</style>\n",
       "<table border=\"1\" class=\"dataframe\">\n",
       "  <thead>\n",
       "    <tr style=\"text-align: right;\">\n",
       "      <th></th>\n",
       "      <th>students</th>\n",
       "      <th>grade</th>\n",
       "      <th>DEPARTMENT</th>\n",
       "    </tr>\n",
       "  </thead>\n",
       "  <tbody>\n",
       "    <tr>\n",
       "      <th>0</th>\n",
       "      <td>False</td>\n",
       "      <td>False</td>\n",
       "      <td>False</td>\n",
       "    </tr>\n",
       "    <tr>\n",
       "      <th>1</th>\n",
       "      <td>False</td>\n",
       "      <td>False</td>\n",
       "      <td>False</td>\n",
       "    </tr>\n",
       "    <tr>\n",
       "      <th>2</th>\n",
       "      <td>False</td>\n",
       "      <td>False</td>\n",
       "      <td>False</td>\n",
       "    </tr>\n",
       "  </tbody>\n",
       "</table>\n",
       "</div>"
      ],
      "text/plain": [
       "   students  grade  DEPARTMENT\n",
       "0     False  False       False\n",
       "1     False  False       False\n",
       "2     False  False       False"
      ]
     },
     "execution_count": 26,
     "metadata": {},
     "output_type": "execute_result"
    }
   ],
   "source": [
    "#null value check\n",
    "df.isnull()   #flase means no null value"
   ]
  },
  {
   "cell_type": "code",
   "execution_count": null,
   "id": "cee09a1f-3fb4-4bdf-b354-5653ea31f6d3",
   "metadata": {},
   "outputs": [],
   "source": [
    "#Data Input\n",
    "\n",
    "#From CSV\n",
    "df = pd.read_csv(\"file.csv\")\n",
    "\n",
    "#From Excel\n",
    "df = pd.read_excel(\"file.xlsx\")\n",
    "\n",
    "#From Dictionary/List:\n",
    "df = pd.DataFrame({'col1': [1, 2], 'col2': [3, 4]})"
   ]
  },
  {
   "cell_type": "code",
   "execution_count": null,
   "id": "e5df783a-ff4a-4a86-b508-c296544dd4da",
   "metadata": {},
   "outputs": [],
   "source": []
  }
 ],
 "metadata": {
  "kernelspec": {
   "display_name": "Python 3 (ipykernel)",
   "language": "python",
   "name": "python3"
  },
  "language_info": {
   "codemirror_mode": {
    "name": "ipython",
    "version": 3
   },
   "file_extension": ".py",
   "mimetype": "text/x-python",
   "name": "python",
   "nbconvert_exporter": "python",
   "pygments_lexer": "ipython3",
   "version": "3.12.7"
  }
 },
 "nbformat": 4,
 "nbformat_minor": 5
}
