{
 "cells": [
  {
   "cell_type": "code",
   "execution_count": null,
   "id": "aee503c9-dd99-4479-9e2e-568d9962b955",
   "metadata": {},
   "outputs": [],
   "source": [
    "#operations on arrays in numpy"
   ]
  },
  {
   "cell_type": "code",
   "execution_count": 10,
   "id": "6bbeb37d-68ab-45f8-a6be-d62b8bcfc101",
   "metadata": {},
   "outputs": [
    {
     "name": "stdout",
     "output_type": "stream",
     "text": [
      "Original one: [[1 2 3]\n",
      " [4 5 6]]\n",
      "After copying: [[1 2 3]\n",
      " [4 5 6]]\n"
     ]
    }
   ],
   "source": [
    "import numpy as np\n",
    "a = np.array([[1, 2, 3], [4, 5, 6]]) #2D array\n",
    "print(\"Original one:\",a)\n",
    "\n",
    "b = a.copy()   #copying array\n",
    "print(\"After copying:\",b)"
   ]
  },
  {
   "cell_type": "code",
   "execution_count": 8,
   "id": "7c71392f-9e1c-40d9-bd77-d5f80b3ae62e",
   "metadata": {},
   "outputs": [
    {
     "name": "stdout",
     "output_type": "stream",
     "text": [
      "after append:  [[1 2 3]\n",
      " [4 5 6]\n",
      " [7 8 9]]\n",
      "After insert [[ 1  2  3]\n",
      " [10 20 30]\n",
      " [ 4  5  6]]\n"
     ]
    }
   ],
   "source": [
    "#append and insert in array\n",
    "result =np.append(a, [[7, 8, 9]], axis=0)  # axis=0 means row and axis 1 means columns\n",
    "print(\"after append: \",result)\n",
    "\n",
    "result =np.insert(a, 1, [10, 20, 30], axis=0)  # Insert at index 1 which is after row 0\n",
    "print(\"After insert\",result)"
   ]
  },
  {
   "cell_type": "code",
   "execution_count": 12,
   "id": "54df77a0-a3f9-4dcd-92e8-769eefa94a4a",
   "metadata": {},
   "outputs": [
    {
     "name": "stdout",
     "output_type": "stream",
     "text": [
      "before sorting: [[3 1 2]\n",
      " [9 7 8]]\n",
      "after sorting: [[1 2 3]\n",
      " [7 8 9]]\n"
     ]
    }
   ],
   "source": [
    "#sorting\n",
    "a = np.array([[3, 1, 2],\n",
    "              [9, 7, 8]])\n",
    "print(\"before sorting:\",a)\n",
    "\n",
    "result =np.sort(a, axis=1)\n",
    "print(\"after sorting:\", result)"
   ]
  },
  {
   "cell_type": "code",
   "execution_count": 14,
   "id": "5a57a080-5ec3-4402-9c3e-97a72a8ff8f4",
   "metadata": {},
   "outputs": [
    {
     "name": "stdout",
     "output_type": "stream",
     "text": [
      "after deleting: [[9 7 8]]\n"
     ]
    }
   ],
   "source": [
    "#deleting\n",
    "a = np.array([[3, 1, 2],\n",
    "              [9, 7, 8]])\n",
    "\n",
    "result =np.delete(a, 0, axis=0)  # Delete first row which is row 0\n",
    "print(\"after deleting:\",result)"
   ]
  },
  {
   "cell_type": "code",
   "execution_count": 17,
   "id": "38405b71-8a39-4499-b866-e200bc609570",
   "metadata": {},
   "outputs": [
    {
     "name": "stdout",
     "output_type": "stream",
     "text": [
      "After splitting: [array([1, 2]), array([3, 4]), array([5, 6])]\n",
      "After splitting 2d array: [array([[1, 2]]), array([[3, 4]]), array([[5, 6]])]\n"
     ]
    }
   ],
   "source": [
    "#splitting\n",
    "x = np.array([1, 2, 3, 4, 5, 6])\n",
    "result =np.split(x, 3)  # divide into 3 equal arrays\n",
    "print(\"After splitting:\",result)\n",
    "\n",
    "z = np.array([[1, 2], [3, 4], [5, 6]])\n",
    "result =np.vsplit(z, 3) #divide each row in seperate array\n",
    "print(\"After splitting 2d array:\",result)\n"
   ]
  },
  {
   "cell_type": "code",
   "execution_count": null,
   "id": "6dc8f683-ff2b-4bae-bc4c-8e85c86e1a53",
   "metadata": {},
   "outputs": [],
   "source": [
    "#Data Loading & Saving\n",
    "np.save('array.npy', a)  # Binary format\n",
    "np.savetxt('array.txt', a)  # Text format\n",
    "\n",
    "#loading array\n",
    "np.load('array.npy')\n",
    "np.loadtxt('array.txt')"
   ]
  },
  {
   "cell_type": "code",
   "execution_count": 19,
   "id": "ab0ba435-9339-4a24-ab26-b8001343f55c",
   "metadata": {},
   "outputs": [
    {
     "name": "stdout",
     "output_type": "stream",
     "text": [
      "2\n",
      "[4 5 6]\n"
     ]
    }
   ],
   "source": [
    "#NumPy Indexing and Selection\n",
    "a = np.array([[1, 2, 3], [4, 5, 6]])\n",
    "b=a[0, 1]  # 2 (row 0, col 1)\n",
    "print (b)\n",
    "\n",
    "b=a[1]     # [4 5 6] (2nd row)\n",
    "print(b)\n"
   ]
  },
  {
   "cell_type": "code",
   "execution_count": 21,
   "id": "44b6e9f9-0927-4d67-a147-af8cc931d64e",
   "metadata": {},
   "outputs": [
    {
     "data": {
      "text/plain": [
       "array([30, 40])"
      ]
     },
     "execution_count": 21,
     "metadata": {},
     "output_type": "execute_result"
    }
   ],
   "source": [
    "#logical selection\n",
    "a = np.array([10, 20, 30, 40])\n",
    "a[a > 25]  # [30 40]"
   ]
  },
  {
   "cell_type": "code",
   "execution_count": 24,
   "id": "6292a7f8-a731-4f53-90a9-393b692814fa",
   "metadata": {},
   "outputs": [
    {
     "name": "stdout",
     "output_type": "stream",
     "text": [
      "[6 7 8]\n",
      "\n",
      " [[2 2 4]\n",
      " [5 5 7]]\n"
     ]
    }
   ],
   "source": [
    "#Broadcasting\n",
    "a = np.array([1, 2, 3])\n",
    "b=a + 5  # [6 7 8]\n",
    "print(b)\n",
    "\n",
    "A = np.array([[1, 2, 3], [4, 5, 6]])\n",
    "B = np.array([1, 0, 1])\n",
    "C=A + B  # [[2 2 4], [5 5 7]]\n",
    "print(\"\\n\",C)"
   ]
  },
  {
   "cell_type": "code",
   "execution_count": 25,
   "id": "54f7170a-06b4-449b-802b-8afe703ac2b5",
   "metadata": {},
   "outputs": [
    {
     "name": "stdout",
     "output_type": "stream",
     "text": [
      "float64\n",
      "[1 3 5]\n",
      "int32\n"
     ]
    }
   ],
   "source": [
    "#typecasting------->converting one data type to another.\n",
    "import numpy as np\n",
    "\n",
    "a = np.array([1.2, 3.4, 5.6])\n",
    "print(a.dtype)          #datatype\n",
    "\n",
    "# Convert float to int\n",
    "b = a.astype(int)   #typecasting\n",
    "print(b)                # [1 3 5]\n",
    "print(b.dtype)          #datatype\n"
   ]
  },
  {
   "cell_type": "code",
   "execution_count": 27,
   "id": "0b9723c9-405f-4caa-b8a7-59451f4c68d0",
   "metadata": {},
   "outputs": [
    {
     "name": "stdout",
     "output_type": "stream",
     "text": [
      "After adding 5: [15 25 35]\n",
      "After multiplyingby 2: [20 40 60]\n",
      "After subtracting: [ 9 18 27]\n",
      "After dividing: [10. 10. 10.]\n",
      "Modulus: [0 0 0]\n",
      "float divide: [10 10 10]\n",
      "exponent: [   10   400 27000]\n"
     ]
    }
   ],
   "source": [
    "#Arithmetic Operations\n",
    "a = np.array([10, 20, 30])\n",
    "b = np.array([1, 2, 3])\n",
    "\n",
    "result =a + 5       \n",
    "print(\"After adding 5:\",result)\n",
    "\n",
    "result =a * 2  \n",
    "print(\"After multiplyingby 2:\",result)\n",
    "\n",
    "result =a - b \n",
    "print(\"After subtracting:\",result)\n",
    "\n",
    "result =a / b\n",
    "print(\"After dividing:\",result)\n",
    "\n",
    "result =a % b\n",
    "print(\"Modulus:\",result)\n",
    "\n",
    "result =a // b\n",
    "print(\"float divide:\",result)\n",
    "\n",
    "result =a ** b\n",
    "print(\"exponent:\",result)"
   ]
  },
  {
   "cell_type": "code",
   "execution_count": 28,
   "id": "8c432d5d-c5ef-44d0-8f72-cf8e68cefdf7",
   "metadata": {},
   "outputs": [
    {
     "name": "stdout",
     "output_type": "stream",
     "text": [
      "[1. 2. 3. 4.]\n",
      "[2.71828183e+00 5.45981500e+01 8.10308393e+03 8.88611052e+06]\n",
      "[0.         1.38629436 2.19722458 2.77258872]\n",
      "[ 0.84147098 -0.7568025   0.41211849 -0.28790332]\n",
      "[ 0.54030231 -0.65364362 -0.91113026 -0.95765948]\n",
      "[ 1  4  9 16]\n",
      "[  1  16  81 256]\n"
     ]
    }
   ],
   "source": [
    "#Universal Array Functions\n",
    "x = np.array([1, 4, 9, 16])\n",
    "\n",
    "result=np.sqrt(x)\n",
    "print(result)\n",
    "\n",
    "result=np.exp(x)\n",
    "print(result)\n",
    "\n",
    "result=np.log(x)\t\n",
    "print(result)\n",
    "\n",
    "result=np.sin(x)\n",
    "print(result)\n",
    "\n",
    "result=np.cos(x)\n",
    "print(result)\n",
    "\n",
    "result=np.abs(x)\t\n",
    "print(result)\n",
    "\n",
    "result=np.power(x, 2)\n",
    "print(result)"
   ]
  }
 ],
 "metadata": {
  "kernelspec": {
   "display_name": "Python 3 (ipykernel)",
   "language": "python",
   "name": "python3"
  },
  "language_info": {
   "codemirror_mode": {
    "name": "ipython",
    "version": 3
   },
   "file_extension": ".py",
   "mimetype": "text/x-python",
   "name": "python",
   "nbconvert_exporter": "python",
   "pygments_lexer": "ipython3",
   "version": "3.12.7"
  }
 },
 "nbformat": 4,
 "nbformat_minor": 5
}
