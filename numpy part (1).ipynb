{
 "cells": [
  {
   "cell_type": "code",
   "execution_count": null,
   "id": "770040a3-5237-42be-9c93-25a3baba15e7",
   "metadata": {},
   "outputs": [],
   "source": [
    "# Installation (if not already installed)\n",
    "pip install numpy"
   ]
  },
  {
   "cell_type": "code",
   "execution_count": 2,
   "id": "eb89e679-3053-4f62-9f96-71457d15499d",
   "metadata": {},
   "outputs": [
    {
     "name": "stdout",
     "output_type": "stream",
     "text": [
      "1.26.4\n"
     ]
    }
   ],
   "source": [
    "#checking version of numpy\n",
    "import numpy as np\n",
    "print(np.__version__)"
   ]
  },
  {
   "cell_type": "code",
   "execution_count": 31,
   "id": "346b2211-9f58-4976-972a-a6f7ed5c4263",
   "metadata": {},
   "outputs": [
    {
     "name": "stdout",
     "output_type": "stream",
     "text": [
      "Zeros:  [[0. 0. 0.]\n",
      " [0. 0. 0.]]\n",
      "ones:  [[1. 1.]\n",
      " [1. 1.]\n",
      " [1. 1.]]\n",
      "value:  [[5 5]\n",
      " [5 5]]\n",
      "identity:  [[1. 0. 0.]\n",
      " [0. 1. 0.]\n",
      " [0. 0. 1.]]\n",
      "range of no:  [0 2 4 6 8]\n",
      "even space:  [0.  0.4 0.8 1.2 1.6 2. ]\n"
     ]
    }
   ],
   "source": [
    "# Create array of zeros\n",
    "zero=np.zeros((2, 3))  # 2 rows and 3 colmns\n",
    "print (\"Zeros: \",zero)\n",
    "\n",
    "# Array of ones\n",
    "one=np.ones((3, 2)) #3 rows and 2 colmns\n",
    "print(\"ones: \",one)\n",
    "\n",
    "# Array with all values as 5\n",
    "value=np.full((2, 2), 5) #2 rows and 2 colmns all have value 5\n",
    "print(\"value: \",value)\n",
    "\n",
    "# Identity matrix\n",
    "identity=np.eye(3) #3 rows and 3 colmns\n",
    "print(\"identity: \",identity)\n",
    "\n",
    "# Range of numbers\n",
    "#start from 0 with increment of 2 and end at number less than 10\n",
    "range_of_no =np.arange(0, 10, 2)  # [0 2 4 6 8]\n",
    "print(\"range of no: \",range_of_no)\n",
    "\n",
    "# Evenly spaced values\n",
    "#have 6 number from 0 to 2 with evenly spaced\n",
    "even_space =np.linspace(0, 2, 6)  # [0.   0.25 0.5  0.75 1. ]\n",
    "print(\"even space: \",even_space)"
   ]
  },
  {
   "cell_type": "code",
   "execution_count": 34,
   "id": "01034d58-5132-4e29-a631-cb7a7e276f9a",
   "metadata": {},
   "outputs": [
    {
     "name": "stdout",
     "output_type": "stream",
     "text": [
      "random no between 0 and 1:  [[0.29322012 0.13343171 0.86018499]\n",
      " [0.41762105 0.34557765 0.08212584]]\n",
      "random integers between 0 and 10:  [[2 9 1]\n",
      " [6 5 5]\n",
      " [8 3 9]]\n"
     ]
    }
   ],
   "source": [
    "# Random numbers between 0 and 1\n",
    "random_no =np.random.rand(2, 3) #2 rows and 3 column\n",
    "print(\"random no between 0 and 1: \",random_no)\n",
    "\n",
    "# Random integers between 0 and 10\n",
    "random= np.random.randint(0, 10, (3, 3)) #3 rows and colmns\n",
    "print(\"random integers between 0 and 10: \",random)"
   ]
  },
  {
   "cell_type": "code",
   "execution_count": 17,
   "id": "9a44de4f-5c7d-499c-8f4c-0adfab5df26b",
   "metadata": {},
   "outputs": [
    {
     "name": "stdout",
     "output_type": "stream",
     "text": [
      "b:  [1 2]\n",
      "a:  [[1 2 3]\n",
      " [4 5 6]]\n",
      "<class 'numpy.ndarray'>\n"
     ]
    }
   ],
   "source": [
    "import numpy as np #import library\n",
    "b=np.array([1,2]) #how to create array using numpy\n",
    "print(\"b: \",b)\n",
    "\n",
    "a=np.array([[1,2,3],[4,5,6]]) #array\n",
    "print(\"a: \",a)\n",
    "\n",
    "print(type(a))"
   ]
  },
  {
   "cell_type": "code",
   "execution_count": 26,
   "id": "31280fdf-eb36-4d94-9cdb-d9a18785552b",
   "metadata": {},
   "outputs": [
    {
     "name": "stdout",
     "output_type": "stream",
     "text": [
      "First element of 2D array: 1\n",
      "After changing: [[10  2  3]\n",
      " [ 4  5  6]]\n"
     ]
    }
   ],
   "source": [
    "a=np.array([[1,2,3],[4,5,6]]) #2D array\n",
    "print(\"First element of 2D array:\",a[0,0])#print first element of 2d array\n",
    "\n",
    "a[0,0]=10 #changing value\n",
    "print(\"After changing:\",a)"
   ]
  },
  {
   "cell_type": "code",
   "execution_count": 36,
   "id": "a5a8fcc4-f83d-474f-8e18-8fb141b114bd",
   "metadata": {},
   "outputs": [
    {
     "name": "stdout",
     "output_type": "stream",
     "text": [
      "Original array: [[1 2 3]\n",
      " [4 5 6]]\n",
      "\n",
      "a.shape        => (2, 3)\n",
      "a.size         => 6\n",
      "a.dtype        => int32\n",
      "a.ndim         => 2\n",
      "\n",
      "a.max()        => 6\n",
      "a.min()        => 1\n",
      "a.argmax()     => 5\n",
      "a.argmin()     => 0\n",
      "\n",
      "a.reshape(3,2) =>\n",
      " [[1 2]\n",
      " [3 4]\n",
      " [5 6]]\n"
     ]
    }
   ],
   "source": [
    "#array attributes\n",
    "import numpy as np\n",
    "a = np.array([[1, 2, 3],[4, 5, 6]]) #array\n",
    "print(\"Original array:\", a)\n",
    "\n",
    "# Attribute examples\n",
    "print(\"\\na.shape        =>\", a.shape)        # Shape: (2rows, 3colmns) \n",
    "print(\"a.size         =>\", a.size)         # Total elements: 6\n",
    "print(\"a.dtype        =>\", a.dtype)        # Data type: int64 (platform dependent)\n",
    "print(\"a.ndim         =>\", a.ndim)         # Number of dimensions: 2\n",
    "\n",
    "# Method examples\n",
    "print(\"\\na.max()        =>\", a.max())        # Max value: 6\n",
    "print(\"a.min()        =>\", a.min())        # Min value: 1\n",
    "print(\"a.argmax()     =>\", a.argmax())     # Index of max in flattened array: 5\n",
    "print(\"a.argmin()     =>\", a.argmin())     # Index of min in flattened array: 0\n",
    "\n",
    "# Reshape array or transpose\n",
    "reshaped = a.reshape(3, 2)\n",
    "print(\"\\na.reshape(3,2) =>\\n\", reshaped)     # Reshaped array to (3rows, 2colmns)\n"
   ]
  },
  {
   "cell_type": "code",
   "execution_count": 38,
   "id": "ca53ebce-e8f9-4549-b82e-b925c92e510e",
   "metadata": {},
   "outputs": [
    {
     "name": "stdout",
     "output_type": "stream",
     "text": [
      "[50 60 70]\n"
     ]
    }
   ],
   "source": [
    "import numpy as np\n",
    "a = np.array([10, 20, 30, 50, 60, 70]) #array\n",
    "\n",
    "#array starting from index 3 to the end.\n",
    "print(a[3:])"
   ]
  }
 ],
 "metadata": {
  "kernelspec": {
   "display_name": "Python 3 (ipykernel)",
   "language": "python",
   "name": "python3"
  },
  "language_info": {
   "codemirror_mode": {
    "name": "ipython",
    "version": 3
   },
   "file_extension": ".py",
   "mimetype": "text/x-python",
   "name": "python",
   "nbconvert_exporter": "python",
   "pygments_lexer": "ipython3",
   "version": "3.12.7"
  }
 },
 "nbformat": 4,
 "nbformat_minor": 5
}
