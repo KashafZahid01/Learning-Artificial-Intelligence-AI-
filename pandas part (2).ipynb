{
 "cells": [
  {
   "cell_type": "code",
   "execution_count": 2,
   "id": "f871d6f1-28a5-4cde-bcea-0b6aa1e81564",
   "metadata": {},
   "outputs": [
    {
     "name": "stdout",
     "output_type": "stream",
     "text": [
      "Original DataFrame:\n",
      "      Name   Age  Score\n",
      "0    Alice  25.0   85.0\n",
      "1      Bob   NaN   90.0\n",
      "2  Charlie  30.0    NaN\n",
      "3     None  22.0   88.0\n"
     ]
    }
   ],
   "source": [
    "#Missing Data & Its Handling\n",
    "\n",
    "import pandas as pd\n",
    "import numpy as np\n",
    "\n",
    "#DataFrame\n",
    "df = pd.DataFrame({\n",
    "    'Name': ['Alice', 'Bob', 'Charlie', None],\n",
    "    'Age': [25, None, 30, 22],\n",
    "    'Score': [85, 90, None, 88]\n",
    "})\n",
    "\n",
    "print(\"Original DataFrame:\")\n",
    "print(df)"
   ]
  },
  {
   "cell_type": "code",
   "execution_count": 7,
   "id": "c2f91828-d45a-4c6c-af7e-13b579fe0c4b",
   "metadata": {},
   "outputs": [
    {
     "name": "stdout",
     "output_type": "stream",
     "text": [
      "False where value exist:\n",
      "     Name    Age  Score\n",
      "0  False  False  False\n",
      "1  False   True  False\n",
      "2  False  False   True\n",
      "3   True  False  False\n",
      "\n",
      "count number of NaNs:\n",
      " Name     1\n",
      "Age      1\n",
      "Score    1\n",
      "dtype: int64\n",
      "\n",
      "true where value exist:\n",
      "     Name    Age  Score\n",
      "0   True   True   True\n",
      "1   True  False   True\n",
      "2   True   True  False\n",
      "3  False   True   True\n"
     ]
    }
   ],
   "source": [
    "#  step#01 (checking missing data)\n",
    "\n",
    "print(\"False where value exist:\\n\",df.isnull()) # Boolean DataFrame showing True where NaN(not a number) exists\n",
    "\n",
    "print(\"\\ncount number of NaNs:\\n\",df.isnull().sum())   # Count NaNs in each column\n",
    "\n",
    "print(\"\\ntrue where value exist:\\n\",df.notnull())      # Opposite of isnull()"
   ]
  },
  {
   "cell_type": "code",
   "execution_count": 11,
   "id": "e23ae36e-5d87-4416-ac27-3bf5b087022d",
   "metadata": {},
   "outputs": [
    {
     "name": "stdout",
     "output_type": "stream",
     "text": [
      "    Name   Age  Score\n",
      "0  Alice  25.0   85.0\n",
      "\n",
      "\n",
      " Empty DataFrame\n",
      "Columns: []\n",
      "Index: [0, 1, 2, 3]\n",
      "\n",
      "\n",
      "       Name   Age  Score\n",
      "0    Alice  25.0   85.0\n",
      "1      Bob   NaN   90.0\n",
      "2  Charlie  30.0    NaN\n",
      "3     None  22.0   88.0\n"
     ]
    }
   ],
   "source": [
    "# step#02 (Dropping Missing Data)\n",
    "\n",
    "print(df.dropna())         # Drop rows have NaN\n",
    "\n",
    "print(\"\\n\\n\",df.dropna(axis=1))   # Drop columns have NaN\n",
    "\n",
    "print(\"\\n\\n\",df.dropna(thresh=2)) # Keep rows with at least 2 non-NaN values\n"
   ]
  },
  {
   "cell_type": "code",
   "execution_count": 16,
   "id": "d2734db8-3116-47da-b39b-7d92ffadf6c0",
   "metadata": {},
   "outputs": [
    {
     "name": "stdout",
     "output_type": "stream",
     "text": [
      "      Name   Age  Score\n",
      "0    Alice  25.0   85.0\n",
      "1      Bob   0.0   90.0\n",
      "2  Charlie  30.0    0.0\n",
      "3        0  22.0   88.0\n",
      "\n",
      "\n",
      "       Name   Age  Score\n",
      "0    Alice  25.0   85.0\n",
      "1      Bob  25.0   90.0\n",
      "2  Charlie  30.0   90.0\n",
      "3  Charlie  22.0   88.0\n",
      "\n",
      "\n",
      "       Name   Age  Score\n",
      "0    Alice  25.0   85.0\n",
      "1      Bob  30.0   90.0\n",
      "2  Charlie  30.0   88.0\n",
      "3     None  22.0   88.0\n"
     ]
    },
    {
     "name": "stderr",
     "output_type": "stream",
     "text": [
      "C:\\Users\\k4kas\\AppData\\Local\\Temp\\ipykernel_12416\\1923000769.py:5: FutureWarning: DataFrame.fillna with 'method' is deprecated and will raise in a future version. Use obj.ffill() or obj.bfill() instead.\n",
      "  print(\"\\n\\n\",df.fillna(method='ffill'))  # Forward fill (fill whatever above it in table)\n",
      "C:\\Users\\k4kas\\AppData\\Local\\Temp\\ipykernel_12416\\1923000769.py:7: FutureWarning: DataFrame.fillna with 'method' is deprecated and will raise in a future version. Use obj.ffill() or obj.bfill() instead.\n",
      "  print(\"\\n\\n\",df.fillna(method='bfill'))  # Backward fill (fill whatever below it in table)\n"
     ]
    }
   ],
   "source": [
    "# step#03 (Filling Missing Data)\n",
    "\n",
    "print(df.fillna(0))             # Replace NaN with 0\n",
    "\n",
    "print(\"\\n\\n\",df.fillna(method='ffill'))  # Forward fill (fill whatever above it in table)\n",
    "\n",
    "print(\"\\n\\n\",df.fillna(method='bfill'))  # Backward fill (fill whatever below it in table)"
   ]
  },
  {
   "cell_type": "code",
   "execution_count": 17,
   "id": "43ea26bd-f9b4-423a-80aa-fbe8ec33d529",
   "metadata": {},
   "outputs": [
    {
     "name": "stdout",
     "output_type": "stream",
     "text": [
      "   A  B\n",
      "0  1  3\n",
      "1  2  4\n",
      "0  5  7\n",
      "1  6  8\n",
      "   A  B  A  B\n",
      "0  1  3  5  7\n",
      "1  2  4  6  8\n"
     ]
    }
   ],
   "source": [
    "#Concatenation\n",
    "df1 = pd.DataFrame({'A': [1, 2], 'B': [3, 4]})\n",
    "df2 = pd.DataFrame({'A': [5, 6], 'B': [7, 8]})\n",
    "\n",
    "vertical =pd.concat([df1, df2], axis=0)  # Vertical (default)\n",
    "horizontal =pd.concat([df1, df2], axis=1)  # Horizontal\n",
    "\n",
    "print(vertical)\n",
    "print(horizontal)"
   ]
  },
  {
   "cell_type": "code",
   "execution_count": 3,
   "id": "21499eec-0f05-458c-87f6-0ed2152bb36d",
   "metadata": {},
   "outputs": [
    {
     "name": "stdout",
     "output_type": "stream",
     "text": [
      "Inner join:\n",
      "   key  val1  val2\n",
      "0   A     1     4\n",
      "1   B     2     5\n",
      "\n",
      "Outer join: \n",
      "   key  val1  val2\n",
      "0   A   1.0   4.0\n",
      "1   B   2.0   5.0\n",
      "2   C   3.0   NaN\n",
      "3   D   NaN   6.0\n",
      "\n",
      "Left join: \n",
      "   key  val1  val2\n",
      "0   A     1   4.0\n",
      "1   B     2   5.0\n",
      "2   C     3   NaN\n",
      "\n",
      "Right join: \n",
      "   key  val1  val2\n",
      "0   A   1.0     4\n",
      "1   B   2.0     5\n",
      "2   D   NaN     6\n"
     ]
    }
   ],
   "source": [
    "#merging\n",
    "df1 = pd.DataFrame({'key': ['A', 'B', 'C'], 'val1': [1, 2, 3]})\n",
    "df2 = pd.DataFrame({'key': ['A', 'B', 'D'], 'val2': [4, 5, 6]})\n",
    "\n",
    "# Inner join\n",
    "iner =pd.merge(df1, df2, on='key', how='inner')\n",
    "print(\"Inner join:\\n\",iner)\n",
    "\n",
    "# Outer join\n",
    "outer =pd.merge(df1, df2, on='key', how='outer')\n",
    "print(\"\\nOuter join: \\n\",outer)\n",
    "\n",
    "# Left join\n",
    "lj =pd.merge(df1, df2, on='key', how='left')\n",
    "print(\"\\nLeft join: \\n\",lj)\n",
    "\n",
    "# Right join\n",
    "Rj =pd.merge(df1, df2, on='key', how='right')\n",
    "print(\"\\nRight join: \\n\",Rj)"
   ]
  },
  {
   "cell_type": "code",
   "execution_count": 4,
   "id": "94f59123-874d-42c6-849d-7845dd188f10",
   "metadata": {},
   "outputs": [
    {
     "data": {
      "text/html": [
       "<div>\n",
       "<style scoped>\n",
       "    .dataframe tbody tr th:only-of-type {\n",
       "        vertical-align: middle;\n",
       "    }\n",
       "\n",
       "    .dataframe tbody tr th {\n",
       "        vertical-align: top;\n",
       "    }\n",
       "\n",
       "    .dataframe thead th {\n",
       "        text-align: right;\n",
       "    }\n",
       "</style>\n",
       "<table border=\"1\" class=\"dataframe\">\n",
       "  <thead>\n",
       "    <tr style=\"text-align: right;\">\n",
       "      <th></th>\n",
       "      <th>key_left</th>\n",
       "      <th>val1</th>\n",
       "      <th>key_right</th>\n",
       "      <th>val2</th>\n",
       "    </tr>\n",
       "  </thead>\n",
       "  <tbody>\n",
       "    <tr>\n",
       "      <th>0</th>\n",
       "      <td>A</td>\n",
       "      <td>1</td>\n",
       "      <td>A</td>\n",
       "      <td>4</td>\n",
       "    </tr>\n",
       "    <tr>\n",
       "      <th>1</th>\n",
       "      <td>B</td>\n",
       "      <td>2</td>\n",
       "      <td>B</td>\n",
       "      <td>5</td>\n",
       "    </tr>\n",
       "    <tr>\n",
       "      <th>2</th>\n",
       "      <td>C</td>\n",
       "      <td>3</td>\n",
       "      <td>D</td>\n",
       "      <td>6</td>\n",
       "    </tr>\n",
       "  </tbody>\n",
       "</table>\n",
       "</div>"
      ],
      "text/plain": [
       "  key_left  val1 key_right  val2\n",
       "0        A     1         A     4\n",
       "1        B     2         B     5\n",
       "2        C     3         D     6"
      ]
     },
     "execution_count": 4,
     "metadata": {},
     "output_type": "execute_result"
    }
   ],
   "source": [
    "#joining\n",
    "#Join (uses index)\n",
    "\n",
    "df1.join(df2, lsuffix='_left', rsuffix='_right', how='inner')"
   ]
  },
  {
   "cell_type": "code",
   "execution_count": 7,
   "id": "e71904d7-b5f1-4c54-bee5-c9b4acf3a936",
   "metadata": {},
   "outputs": [
    {
     "name": "stdout",
     "output_type": "stream",
     "text": [
      "Group by Category\n",
      "           Data\n",
      "Category      \n",
      "A         12.5\n",
      "B         22.5\n",
      "\n",
      "Multiple aggregations:\n",
      "          Data      \n",
      "          sum  mean\n",
      "Category           \n",
      "A          25  12.5\n",
      "B          45  22.5\n",
      "\n",
      "custom function:\n",
      " Category\n",
      "A    5\n",
      "B    5\n",
      "dtype: int64\n"
     ]
    },
    {
     "name": "stderr",
     "output_type": "stream",
     "text": [
      "C:\\Users\\k4kas\\AppData\\Local\\Temp\\ipykernel_20080\\2513579898.py:17: DeprecationWarning: DataFrameGroupBy.apply operated on the grouping columns. This behavior is deprecated, and in a future version of pandas the grouping columns will be excluded from the operation. Either pass `include_groups=False` to exclude the groupings or explicitly select the grouping columns after groupby to silence this warning.\n",
      "  cust=df.groupby('Category').apply(lambda x: x['Data'].max() - x['Data'].min())\n"
     ]
    }
   ],
   "source": [
    "#GroupBy ---------- used to split data into groups, apply a function, and combine results.\n",
    "\n",
    "df = pd.DataFrame({\n",
    "    'Category': ['A', 'A', 'B', 'B'],\n",
    "    'Data': [10, 15, 20, 25]\n",
    "})\n",
    "\n",
    "# Group by Category and get mean\n",
    "cat=df.groupby('Category').mean()\n",
    "print(\"Group by Category\\n\",cat)\n",
    "\n",
    "# Multiple aggregations\n",
    "multi=df.groupby('Category').agg({'Data': ['sum', 'mean']})\n",
    "print(\"\\nMultiple aggregations:\\n\",multi)\n",
    "\n",
    "# Apply custom function\n",
    "cust=df.groupby('Category').apply(lambda x: x['Data'].max() - x['Data'].min())\n",
    "print(\"\\ncustom function:\\n\",cust)"
   ]
  },
  {
   "cell_type": "code",
   "execution_count": null,
   "id": "0f34a203-19d0-4061-89c4-7c4329c13428",
   "metadata": {},
   "outputs": [],
   "source": []
  }
 ],
 "metadata": {
  "kernelspec": {
   "display_name": "Python 3 (ipykernel)",
   "language": "python",
   "name": "python3"
  },
  "language_info": {
   "codemirror_mode": {
    "name": "ipython",
    "version": 3
   },
   "file_extension": ".py",
   "mimetype": "text/x-python",
   "name": "python",
   "nbconvert_exporter": "python",
   "pygments_lexer": "ipython3",
   "version": "3.12.7"
  }
 },
 "nbformat": 4,
 "nbformat_minor": 5
}
